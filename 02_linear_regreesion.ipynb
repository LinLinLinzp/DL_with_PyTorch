{
  "nbformat": 4,
  "nbformat_minor": 0,
  "metadata": {
    "colab": {
      "name": "02-linear-regreesion.ipynb",
      "provenance": [],
      "authorship_tag": "ABX9TyOZBf4dOagvauTfmK3yk7lK"
    },
    "kernelspec": {
      "name": "python3",
      "display_name": "Python 3"
    }
  },
  "cells": [
    {
      "cell_type": "markdown",
      "metadata": {
        "id": "1Kv22-7j5-yJ",
        "colab_type": "text"
      },
      "source": [
        "# Linear Regression with PyTorch"
      ]
    },
    {
      "cell_type": "code",
      "metadata": {
        "id": "wF41Bt_F53Yg",
        "colab_type": "code",
        "colab": {}
      },
      "source": [
        "import numpy as np\n",
        "import torch"
      ],
      "execution_count": 2,
      "outputs": []
    },
    {
      "cell_type": "markdown",
      "metadata": {
        "id": "TCacQyCH7n-r",
        "colab_type": "text"
      },
      "source": [
        "# Prepare data"
      ]
    },
    {
      "cell_type": "code",
      "metadata": {
        "id": "XLu32CWb7gfL",
        "colab_type": "code",
        "colab": {}
      },
      "source": [
        "# Input (temp, rainfall, humidity)\n",
        "inputs = np.array([[73, 67, 43], \n",
        "                   [91, 88, 64], \n",
        "                   [87, 134, 58], \n",
        "                   [102, 43, 37], \n",
        "                   [69, 96, 70]], dtype='float32')"
      ],
      "execution_count": 8,
      "outputs": []
    },
    {
      "cell_type": "code",
      "metadata": {
        "id": "Rwc9LqV88DGc",
        "colab_type": "code",
        "colab": {}
      },
      "source": [
        "# Targets (apples, oranges)\n",
        "targets = np.array([[56, 70], \n",
        "                    [81, 101], \n",
        "                    [119, 133], \n",
        "                    [22, 37], \n",
        "                    [103, 119]], dtype='float32')"
      ],
      "execution_count": 9,
      "outputs": []
    },
    {
      "cell_type": "markdown",
      "metadata": {
        "id": "9kmvDI4L8Nkb",
        "colab_type": "text"
      },
      "source": [
        "In real project, input row data (CSV) as numpy array and then covert to tensor"
      ]
    },
    {
      "cell_type": "code",
      "metadata": {
        "id": "FtChLa6x8FGI",
        "colab_type": "code",
        "colab": {
          "base_uri": "https://localhost:8080/",
          "height": 168
        },
        "outputId": "16d8620c-36a2-4ded-e53a-f6d79f828dbd"
      },
      "source": [
        "# convert to tensors\n",
        "inputs_tensor = torch.from_numpy(inputs)\n",
        "targets_tensor = torch.from_numpy(targets)\n",
        "inputs_tensor,targets_tensor"
      ],
      "execution_count": 13,
      "outputs": [
        {
          "output_type": "execute_result",
          "data": {
            "text/plain": [
              "(tensor([[ 73.,  67.,  43.],\n",
              "         [ 91.,  88.,  64.],\n",
              "         [ 87., 134.,  58.],\n",
              "         [102.,  43.,  37.],\n",
              "         [ 69.,  96.,  70.]]), tensor([[ 56.,  70.],\n",
              "         [ 81., 101.],\n",
              "         [119., 133.],\n",
              "         [ 22.,  37.],\n",
              "         [103., 119.]]))"
            ]
          },
          "metadata": {
            "tags": []
          },
          "execution_count": 13
        }
      ]
    },
    {
      "cell_type": "markdown",
      "metadata": {
        "id": "ckgJMtEw9P1L",
        "colab_type": "text"
      },
      "source": [
        "Linear Regession Model"
      ]
    },
    {
      "cell_type": "code",
      "metadata": {
        "id": "zq2e_8C_867k",
        "colab_type": "code",
        "colab": {
          "base_uri": "https://localhost:8080/",
          "height": 67
        },
        "outputId": "c268dbb5-6ff4-41fb-e224-802fc6b6b9e8"
      },
      "source": [
        "# init weights and biases\n",
        "# torch.randn creates a tensor with the given shape,\n",
        "# with elements picked randomly from a normal distribution\n",
        "# with mean 0 and standard deviation 1.\n",
        "w = torch.randn(2,3,requires_grad=True)\n",
        "b = torch.randn(2,requires_grad=True)\n",
        "w, b"
      ],
      "execution_count": 14,
      "outputs": [
        {
          "output_type": "execute_result",
          "data": {
            "text/plain": [
              "(tensor([[-0.2973, -0.3848,  0.8391],\n",
              "         [-0.8700,  1.0500,  0.9071]], requires_grad=True),\n",
              " tensor([-0.4208, -0.4247], requires_grad=True))"
            ]
          },
          "metadata": {
            "tags": []
          },
          "execution_count": 14
        }
      ]
    },
    {
      "cell_type": "code",
      "metadata": {
        "id": "Oh6z_8H3oHcs",
        "colab_type": "code",
        "colab": {}
      },
      "source": [
        "# define linear model\n",
        "def model(x):\n",
        "  return x @ w.t() + b\n",
        "# @ represents matrix multiplication in PyTorch"
      ],
      "execution_count": 15,
      "outputs": []
    },
    {
      "cell_type": "code",
      "metadata": {
        "id": "3NFOe5MwpP4E",
        "colab_type": "code",
        "colab": {
          "base_uri": "https://localhost:8080/",
          "height": 168
        },
        "outputId": "762e0104-35be-4db8-ca46-6ab539db8945"
      },
      "source": [
        "# show predict\n",
        "preds = model(inputs_tensor)\n",
        "preds,targets_tensor"
      ],
      "execution_count": 40,
      "outputs": [
        {
          "output_type": "execute_result",
          "data": {
            "text/plain": [
              "(tensor([[-11.8285,  45.4184],\n",
              "         [ -7.6410,  70.8569],\n",
              "         [-29.1889, 117.1927],\n",
              "         [-16.2489, -10.4536],\n",
              "         [  0.8556, 103.8394]], grad_fn=<AddBackward0>), tensor([[ 56.,  70.],\n",
              "         [ 81., 101.],\n",
              "         [119., 133.],\n",
              "         [ 22.,  37.],\n",
              "         [103., 119.]]))"
            ]
          },
          "metadata": {
            "tags": []
          },
          "execution_count": 40
        }
      ]
    },
    {
      "cell_type": "markdown",
      "metadata": {
        "id": "jnAOKL0dpqlJ",
        "colab_type": "text"
      },
      "source": [
        "# Loss function"
      ]
    },
    {
      "cell_type": "code",
      "metadata": {
        "id": "bJeLhd6hpt8d",
        "colab_type": "code",
        "colab": {}
      },
      "source": [
        "# MSE Loss\n",
        "def mse(pred, truth):\n",
        "  diff = pred - truth\n",
        "  return torch.sum(diff * diff) / diff.numel()\n",
        "# .numel returns the number of elements in a tensor"
      ],
      "execution_count": 41,
      "outputs": []
    },
    {
      "cell_type": "code",
      "metadata": {
        "id": "Nf5Iy1gmqPm3",
        "colab_type": "code",
        "colab": {
          "base_uri": "https://localhost:8080/",
          "height": 34
        },
        "outputId": "2e0e5d2c-625c-472e-e41c-a5fd78ac6dd0"
      },
      "source": [
        "# Compute Loss\n",
        "loss = mse(preds,targets_tensor)\n",
        "loss"
      ],
      "execution_count": 42,
      "outputs": [
        {
          "output_type": "execute_result",
          "data": {
            "text/plain": [
              "tensor(5055.8750, grad_fn=<DivBackward0>)"
            ]
          },
          "metadata": {
            "tags": []
          },
          "execution_count": 42
        }
      ]
    },
    {
      "cell_type": "markdown",
      "metadata": {
        "id": "SprE3k3MqotB",
        "colab_type": "text"
      },
      "source": [
        "# Compute gradients"
      ]
    },
    {
      "cell_type": "code",
      "metadata": {
        "id": "iF3m4ml7qYBu",
        "colab_type": "code",
        "colab": {}
      },
      "source": [
        "# Compute gradients\n",
        "loss.backward()"
      ],
      "execution_count": 43,
      "outputs": []
    },
    {
      "cell_type": "code",
      "metadata": {
        "id": "dUOfJihLqw4O",
        "colab_type": "code",
        "colab": {
          "base_uri": "https://localhost:8080/",
          "height": 84
        },
        "outputId": "c6501eb8-43ea-42ae-ec89-4a1e7449003d"
      },
      "source": [
        "# gradients for weights\n",
        "w, w.grad"
      ],
      "execution_count": 44,
      "outputs": [
        {
          "output_type": "execute_result",
          "data": {
            "text/plain": [
              "(tensor([[-0.2973, -0.3848,  0.8391],\n",
              "         [-0.8700,  1.0500,  0.9071]], requires_grad=True),\n",
              " tensor([[-7371.9189, -8730.5586, -5149.9844],\n",
              "         [-2359.8115, -1982.7313, -1344.0027]]))"
            ]
          },
          "metadata": {
            "tags": []
          },
          "execution_count": 44
        }
      ]
    },
    {
      "cell_type": "code",
      "metadata": {
        "id": "PKLzbtzOrCix",
        "colab_type": "code",
        "colab": {
          "base_uri": "https://localhost:8080/",
          "height": 67
        },
        "outputId": "dc2a0880-8756-4751-cd1a-0d63a7a84e0f"
      },
      "source": [
        "# !!!IMPORTANT!!!\n",
        "# before update next grad. we need to calling .zero()\n",
        "# cause PyTorch accuumlates gradients\n",
        "w.grad.zero_()\n",
        "b.grad.zero_()\n",
        "print(w.grad)\n",
        "print(b.grad)"
      ],
      "execution_count": 45,
      "outputs": [
        {
          "output_type": "stream",
          "text": [
            "tensor([[0., 0., 0.],\n",
            "        [0., 0., 0.]])\n",
            "tensor([0., 0.])\n"
          ],
          "name": "stdout"
        }
      ]
    },
    {
      "cell_type": "markdown",
      "metadata": {
        "id": "s4hpVnCzrxde",
        "colab_type": "text"
      },
      "source": [
        "# Adjust weights and biases using GD"
      ]
    },
    {
      "cell_type": "code",
      "metadata": {
        "id": "uWCj8qgVrtqq",
        "colab_type": "code",
        "colab": {}
      },
      "source": [
        "# 1.Generate predictions\n",
        "# 2.Calculate the loss\n",
        "# 3.Compute gradients w.r.t the weights and biases\n",
        "# 4.Adjust the weights by subtracting a small quantity proportional to the gradient\n",
        "# 5.Reset the gradients to zero\n",
        "\n",
        "# 1\n",
        "preds = model(inputs_tensor)\n",
        "# 2\n",
        "loss = mse(preds,targets_tensor)\n",
        "# 3\n",
        "loss.backward()\n",
        "# 4 & 5\n",
        "with torch.no_grad():\n",
        "  w -= w.grad * 1e-4\n",
        "  b -= b.grad * 1e-4\n",
        "  w.grad.zero_()\n",
        "  b.grad.zero_()\n"
      ],
      "execution_count": 46,
      "outputs": []
    },
    {
      "cell_type": "markdown",
      "metadata": {
        "id": "zWlh7jc8tq75",
        "colab_type": "text"
      },
      "source": [
        "torch.no_grad(*args, **kwargs)\n",
        "Context-manager that disabled gradient calculation.\n",
        "\n",
        "Disabling gradient calculation is useful for inference, when you are sure that you will not call :meth:Tensor.backward(). It will reduce memory consumption for computations that would otherwise have requires_grad=True.\n",
        "\n",
        "In this mode, the result of every computation will have requires_grad=False, even when the inputs have requires_grad=True."
      ]
    },
    {
      "cell_type": "markdown",
      "metadata": {
        "id": "RejIvvnet718",
        "colab_type": "text"
      },
      "source": [
        "# Training"
      ]
    },
    {
      "cell_type": "code",
      "metadata": {
        "id": "8JtMPVkjuBWK",
        "colab_type": "code",
        "colab": {}
      },
      "source": [
        "epochs = 100\n",
        "lr = 1e-4"
      ],
      "execution_count": 47,
      "outputs": []
    },
    {
      "cell_type": "code",
      "metadata": {
        "id": "sPtWzy1VuT0b",
        "colab_type": "code",
        "colab": {
          "base_uri": "https://localhost:8080/",
          "height": 1000
        },
        "outputId": "713c49ba-ef66-4f8a-9abd-6f723d5a21b2"
      },
      "source": [
        "for e in range(epochs):\n",
        "  preds = model(inputs_tensor)\n",
        "  loss = mse(preds,targets_tensor)\n",
        "  loss.backward()\n",
        "  with torch.no_grad():\n",
        "    w -= w.grad * lr\n",
        "    b -= b.grad * lr\n",
        "    w.grad.zero_()\n",
        "    b.grad.zero_()\n",
        "  print(e,loss)"
      ],
      "execution_count": 48,
      "outputs": [
        {
          "output_type": "stream",
          "text": [
            "0 tensor(3256.8401, grad_fn=<DivBackward0>)\n",
            "1 tensor(2120.4082, grad_fn=<DivBackward0>)\n",
            "2 tensor(1399.8331, grad_fn=<DivBackward0>)\n",
            "3 tensor(940.5876, grad_fn=<DivBackward0>)\n",
            "4 tensor(645.8569, grad_fn=<DivBackward0>)\n",
            "5 tensor(454.9477, grad_fn=<DivBackward0>)\n",
            "6 tensor(329.7801, grad_fn=<DivBackward0>)\n",
            "7 tensor(246.4348, grad_fn=<DivBackward0>)\n",
            "8 tensor(189.8629, grad_fn=<DivBackward0>)\n",
            "9 tensor(150.5752, grad_fn=<DivBackward0>)\n",
            "10 tensor(122.5698, grad_fn=<DivBackward0>)\n",
            "11 tensor(102.0347, grad_fn=<DivBackward0>)\n",
            "12 tensor(86.5345, grad_fn=<DivBackward0>)\n",
            "13 tensor(74.5017, grad_fn=<DivBackward0>)\n",
            "14 tensor(64.9165, grad_fn=<DivBackward0>)\n",
            "15 tensor(57.1073, grad_fn=<DivBackward0>)\n",
            "16 tensor(50.6239, grad_fn=<DivBackward0>)\n",
            "17 tensor(45.1584, grad_fn=<DivBackward0>)\n",
            "18 tensor(40.4953, grad_fn=<DivBackward0>)\n",
            "19 tensor(36.4795, grad_fn=<DivBackward0>)\n",
            "20 tensor(32.9963, grad_fn=<DivBackward0>)\n",
            "21 tensor(29.9586, grad_fn=<DivBackward0>)\n",
            "22 tensor(27.2980, grad_fn=<DivBackward0>)\n",
            "23 tensor(24.9599, grad_fn=<DivBackward0>)\n",
            "24 tensor(22.8997, grad_fn=<DivBackward0>)\n",
            "25 tensor(21.0802, grad_fn=<DivBackward0>)\n",
            "26 tensor(19.4700, grad_fn=<DivBackward0>)\n",
            "27 tensor(18.0424, grad_fn=<DivBackward0>)\n",
            "28 tensor(16.7746, grad_fn=<DivBackward0>)\n",
            "29 tensor(15.6467, grad_fn=<DivBackward0>)\n",
            "30 tensor(14.6416, grad_fn=<DivBackward0>)\n",
            "31 tensor(13.7442, grad_fn=<DivBackward0>)\n",
            "32 tensor(12.9415, grad_fn=<DivBackward0>)\n",
            "33 tensor(12.2222, grad_fn=<DivBackward0>)\n",
            "34 tensor(11.5762, grad_fn=<DivBackward0>)\n",
            "35 tensor(10.9948, grad_fn=<DivBackward0>)\n",
            "36 tensor(10.4703, grad_fn=<DivBackward0>)\n",
            "37 tensor(9.9960, grad_fn=<DivBackward0>)\n",
            "38 tensor(9.5659, grad_fn=<DivBackward0>)\n",
            "39 tensor(9.1750, grad_fn=<DivBackward0>)\n",
            "40 tensor(8.8187, grad_fn=<DivBackward0>)\n",
            "41 tensor(8.4929, grad_fn=<DivBackward0>)\n",
            "42 tensor(8.1941, grad_fn=<DivBackward0>)\n",
            "43 tensor(7.9194, grad_fn=<DivBackward0>)\n",
            "44 tensor(7.6659, grad_fn=<DivBackward0>)\n",
            "45 tensor(7.4314, grad_fn=<DivBackward0>)\n",
            "46 tensor(7.2136, grad_fn=<DivBackward0>)\n",
            "47 tensor(7.0108, grad_fn=<DivBackward0>)\n",
            "48 tensor(6.8213, grad_fn=<DivBackward0>)\n",
            "49 tensor(6.6438, grad_fn=<DivBackward0>)\n",
            "50 tensor(6.4769, grad_fn=<DivBackward0>)\n",
            "51 tensor(6.3197, grad_fn=<DivBackward0>)\n",
            "52 tensor(6.1710, grad_fn=<DivBackward0>)\n",
            "53 tensor(6.0300, grad_fn=<DivBackward0>)\n",
            "54 tensor(5.8961, grad_fn=<DivBackward0>)\n",
            "55 tensor(5.7684, grad_fn=<DivBackward0>)\n",
            "56 tensor(5.6465, grad_fn=<DivBackward0>)\n",
            "57 tensor(5.5298, grad_fn=<DivBackward0>)\n",
            "58 tensor(5.4179, grad_fn=<DivBackward0>)\n",
            "59 tensor(5.3103, grad_fn=<DivBackward0>)\n",
            "60 tensor(5.2067, grad_fn=<DivBackward0>)\n",
            "61 tensor(5.1068, grad_fn=<DivBackward0>)\n",
            "62 tensor(5.0103, grad_fn=<DivBackward0>)\n",
            "63 tensor(4.9169, grad_fn=<DivBackward0>)\n",
            "64 tensor(4.8264, grad_fn=<DivBackward0>)\n",
            "65 tensor(4.7387, grad_fn=<DivBackward0>)\n",
            "66 tensor(4.6535, grad_fn=<DivBackward0>)\n",
            "67 tensor(4.5706, grad_fn=<DivBackward0>)\n",
            "68 tensor(4.4900, grad_fn=<DivBackward0>)\n",
            "69 tensor(4.4115, grad_fn=<DivBackward0>)\n",
            "70 tensor(4.3350, grad_fn=<DivBackward0>)\n",
            "71 tensor(4.2604, grad_fn=<DivBackward0>)\n",
            "72 tensor(4.1876, grad_fn=<DivBackward0>)\n",
            "73 tensor(4.1166, grad_fn=<DivBackward0>)\n",
            "74 tensor(4.0471, grad_fn=<DivBackward0>)\n",
            "75 tensor(3.9793, grad_fn=<DivBackward0>)\n",
            "76 tensor(3.9129, grad_fn=<DivBackward0>)\n",
            "77 tensor(3.8480, grad_fn=<DivBackward0>)\n",
            "78 tensor(3.7845, grad_fn=<DivBackward0>)\n",
            "79 tensor(3.7223, grad_fn=<DivBackward0>)\n",
            "80 tensor(3.6614, grad_fn=<DivBackward0>)\n",
            "81 tensor(3.6018, grad_fn=<DivBackward0>)\n",
            "82 tensor(3.5434, grad_fn=<DivBackward0>)\n",
            "83 tensor(3.4862, grad_fn=<DivBackward0>)\n",
            "84 tensor(3.4301, grad_fn=<DivBackward0>)\n",
            "85 tensor(3.3752, grad_fn=<DivBackward0>)\n",
            "86 tensor(3.3213, grad_fn=<DivBackward0>)\n",
            "87 tensor(3.2685, grad_fn=<DivBackward0>)\n",
            "88 tensor(3.2168, grad_fn=<DivBackward0>)\n",
            "89 tensor(3.1660, grad_fn=<DivBackward0>)\n",
            "90 tensor(3.1162, grad_fn=<DivBackward0>)\n",
            "91 tensor(3.0674, grad_fn=<DivBackward0>)\n",
            "92 tensor(3.0195, grad_fn=<DivBackward0>)\n",
            "93 tensor(2.9726, grad_fn=<DivBackward0>)\n",
            "94 tensor(2.9265, grad_fn=<DivBackward0>)\n",
            "95 tensor(2.8813, grad_fn=<DivBackward0>)\n",
            "96 tensor(2.8370, grad_fn=<DivBackward0>)\n",
            "97 tensor(2.7935, grad_fn=<DivBackward0>)\n",
            "98 tensor(2.7508, grad_fn=<DivBackward0>)\n",
            "99 tensor(2.7089, grad_fn=<DivBackward0>)\n"
          ],
          "name": "stdout"
        }
      ]
    },
    {
      "cell_type": "code",
      "metadata": {
        "id": "Sr5_ClvNu22w",
        "colab_type": "code",
        "colab": {
          "base_uri": "https://localhost:8080/",
          "height": 168
        },
        "outputId": "840827fe-32b8-4784-81c9-f34437139771"
      },
      "source": [
        "preds,targets_tensor"
      ],
      "execution_count": 50,
      "outputs": [
        {
          "output_type": "execute_result",
          "data": {
            "text/plain": [
              "(tensor([[ 56.9277,  70.2232],\n",
              "         [ 83.7411, 100.7819],\n",
              "         [115.5842, 132.8410],\n",
              "         [ 20.2831,  36.9423],\n",
              "         [104.9720, 119.2919]], grad_fn=<AddBackward0>), tensor([[ 56.,  70.],\n",
              "         [ 81., 101.],\n",
              "         [119., 133.],\n",
              "         [ 22.,  37.],\n",
              "         [103., 119.]]))"
            ]
          },
          "metadata": {
            "tags": []
          },
          "execution_count": 50
        }
      ]
    }
  ]
}