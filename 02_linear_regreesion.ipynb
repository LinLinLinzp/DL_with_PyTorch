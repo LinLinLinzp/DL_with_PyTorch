{
  "nbformat": 4,
  "nbformat_minor": 0,
  "metadata": {
    "colab": {
      "name": "02-linear-regreesion.ipynb",
      "provenance": [],
      "authorship_tag": "ABX9TyPbuxbZHUvF9Sv8tiQVryS5"
    },
    "kernelspec": {
      "name": "python3",
      "display_name": "Python 3"
    }
  },
  "cells": [
    {
      "cell_type": "markdown",
      "metadata": {
        "id": "1Kv22-7j5-yJ",
        "colab_type": "text"
      },
      "source": [
        "# Linear Regression with PyTorch"
      ]
    },
    {
      "cell_type": "code",
      "metadata": {
        "id": "wF41Bt_F53Yg",
        "colab_type": "code",
        "colab": {}
      },
      "source": [
        "import numpy as np\n",
        "import torch"
      ],
      "execution_count": 1,
      "outputs": []
    },
    {
      "cell_type": "markdown",
      "metadata": {
        "id": "TCacQyCH7n-r",
        "colab_type": "text"
      },
      "source": [
        "# Prepare data"
      ]
    },
    {
      "cell_type": "code",
      "metadata": {
        "id": "XLu32CWb7gfL",
        "colab_type": "code",
        "colab": {}
      },
      "source": [
        "# Input (temp, rainfall, humidity)\n",
        "inputs = np.array([[73, 67, 43], \n",
        "                   [91, 88, 64], \n",
        "                   [87, 134, 58], \n",
        "                   [102, 43, 37], \n",
        "                   [69, 96, 70]], dtype='float32')"
      ],
      "execution_count": 2,
      "outputs": []
    },
    {
      "cell_type": "code",
      "metadata": {
        "id": "Rwc9LqV88DGc",
        "colab_type": "code",
        "colab": {}
      },
      "source": [
        "# Targets (apples, oranges)\n",
        "targets = np.array([[56, 70], \n",
        "                    [81, 101], \n",
        "                    [119, 133], \n",
        "                    [22, 37], \n",
        "                    [103, 119]], dtype='float32')"
      ],
      "execution_count": 3,
      "outputs": []
    },
    {
      "cell_type": "markdown",
      "metadata": {
        "id": "9kmvDI4L8Nkb",
        "colab_type": "text"
      },
      "source": [
        "In real project, input row data (CSV) as numpy array and then covert to tensor"
      ]
    },
    {
      "cell_type": "code",
      "metadata": {
        "id": "FtChLa6x8FGI",
        "colab_type": "code",
        "colab": {
          "base_uri": "https://localhost:8080/",
          "height": 168
        },
        "outputId": "9a3bb92d-9f3b-41bf-def4-401738bf0ec8"
      },
      "source": [
        "# convert to tensors\n",
        "inputs_tensor = torch.from_numpy(inputs)\n",
        "targets_tensor = torch.from_numpy(targets)\n",
        "inputs_tensor,targets_tensor"
      ],
      "execution_count": 4,
      "outputs": [
        {
          "output_type": "execute_result",
          "data": {
            "text/plain": [
              "(tensor([[ 73.,  67.,  43.],\n",
              "         [ 91.,  88.,  64.],\n",
              "         [ 87., 134.,  58.],\n",
              "         [102.,  43.,  37.],\n",
              "         [ 69.,  96.,  70.]]), tensor([[ 56.,  70.],\n",
              "         [ 81., 101.],\n",
              "         [119., 133.],\n",
              "         [ 22.,  37.],\n",
              "         [103., 119.]]))"
            ]
          },
          "metadata": {
            "tags": []
          },
          "execution_count": 4
        }
      ]
    },
    {
      "cell_type": "markdown",
      "metadata": {
        "id": "ckgJMtEw9P1L",
        "colab_type": "text"
      },
      "source": [
        "Linear Regession Model"
      ]
    },
    {
      "cell_type": "code",
      "metadata": {
        "id": "zq2e_8C_867k",
        "colab_type": "code",
        "colab": {
          "base_uri": "https://localhost:8080/",
          "height": 67
        },
        "outputId": "7731fa96-fc77-48de-ee65-2b69992f6f47"
      },
      "source": [
        "# init weights and biases\n",
        "'''\n",
        "# torch.randn creates a tensor with the given shape,\n",
        "# with elements picked randomly from a normal distribution\n",
        "# with mean 0 and standard deviation 1.\n",
        "'''\n",
        "w = torch.randn(2,3,requires_grad=True)\n",
        "b = torch.randn(2,requires_grad=True)\n",
        "w, b"
      ],
      "execution_count": 5,
      "outputs": [
        {
          "output_type": "execute_result",
          "data": {
            "text/plain": [
              "(tensor([[ 1.1785, -1.1212, -1.1480],\n",
              "         [-0.7303,  0.4337,  0.2456]], requires_grad=True),\n",
              " tensor([ 0.0683, -1.1435], requires_grad=True))"
            ]
          },
          "metadata": {
            "tags": []
          },
          "execution_count": 5
        }
      ]
    },
    {
      "cell_type": "code",
      "metadata": {
        "id": "Oh6z_8H3oHcs",
        "colab_type": "code",
        "colab": {}
      },
      "source": [
        "# define linear model\n",
        "'''\n",
        "# @ represents matrix multiplication in PyTorch\n",
        "'''\n",
        "def model(x):\n",
        "  return x @ w.t() + b"
      ],
      "execution_count": 6,
      "outputs": []
    },
    {
      "cell_type": "code",
      "metadata": {
        "id": "3NFOe5MwpP4E",
        "colab_type": "code",
        "colab": {
          "base_uri": "https://localhost:8080/",
          "height": 185
        },
        "outputId": "5cff4e09-6f5d-4846-e4b8-48aaf54c4f9a"
      },
      "source": [
        "# show predict\n",
        "preds = model(inputs_tensor)\n",
        "preds,targets_tensor"
      ],
      "execution_count": 7,
      "outputs": [
        {
          "output_type": "execute_result",
          "data": {
            "text/plain": [
              "(tensor([[ -38.3914,  -14.8369],\n",
              "         [ -64.8336,  -13.7170],\n",
              "         [-114.2358,    7.6819],\n",
              "         [  29.5822,  -47.8989],\n",
              "         [-106.6181,    7.2933]], grad_fn=<AddBackward0>),\n",
              " tensor([[ 56.,  70.],\n",
              "         [ 81., 101.],\n",
              "         [119., 133.],\n",
              "         [ 22.,  37.],\n",
              "         [103., 119.]]))"
            ]
          },
          "metadata": {
            "tags": []
          },
          "execution_count": 7
        }
      ]
    },
    {
      "cell_type": "markdown",
      "metadata": {
        "id": "jnAOKL0dpqlJ",
        "colab_type": "text"
      },
      "source": [
        "# Loss function"
      ]
    },
    {
      "cell_type": "code",
      "metadata": {
        "id": "bJeLhd6hpt8d",
        "colab_type": "code",
        "colab": {}
      },
      "source": [
        "# MSE Loss\n",
        "'''\n",
        "# .numel returns the number of elements in a tensor\n",
        "'''\n",
        "def mse(pred, truth):\n",
        "  diff = pred - truth\n",
        "  return torch.sum(diff * diff) / diff.numel()"
      ],
      "execution_count": 40,
      "outputs": []
    },
    {
      "cell_type": "code",
      "metadata": {
        "id": "Nf5Iy1gmqPm3",
        "colab_type": "code",
        "colab": {
          "base_uri": "https://localhost:8080/",
          "height": 34
        },
        "outputId": "dfca58f9-a236-4cb6-9856-120111db4b01"
      },
      "source": [
        "# Compute Loss\n",
        "loss = mse(preds,targets_tensor)\n",
        "loss"
      ],
      "execution_count": 9,
      "outputs": [
        {
          "output_type": "execute_result",
          "data": {
            "text/plain": [
              "tensor(18432.1445, grad_fn=<DivBackward0>)"
            ]
          },
          "metadata": {
            "tags": []
          },
          "execution_count": 9
        }
      ]
    },
    {
      "cell_type": "markdown",
      "metadata": {
        "id": "SprE3k3MqotB",
        "colab_type": "text"
      },
      "source": [
        "# Compute gradients"
      ]
    },
    {
      "cell_type": "code",
      "metadata": {
        "id": "iF3m4ml7qYBu",
        "colab_type": "code",
        "colab": {}
      },
      "source": [
        "# Compute gradients\n",
        "loss.backward()"
      ],
      "execution_count": 10,
      "outputs": []
    },
    {
      "cell_type": "code",
      "metadata": {
        "id": "dUOfJihLqw4O",
        "colab_type": "code",
        "colab": {
          "base_uri": "https://localhost:8080/",
          "height": 84
        },
        "outputId": "8c4764ad-f1b3-45fe-8d9a-7890d2ef677e"
      },
      "source": [
        "# gradients for weights\n",
        "w, w.grad"
      ],
      "execution_count": 11,
      "outputs": [
        {
          "output_type": "execute_result",
          "data": {
            "text/plain": [
              "(tensor([[ 1.1785, -1.1212, -1.1480],\n",
              "         [-0.7303,  0.4337,  0.2456]], requires_grad=True),\n",
              " tensor([[-10828.6416, -14041.6953,  -8262.5156],\n",
              "         [ -8780.4912,  -9389.2568,  -5843.8091]]))"
            ]
          },
          "metadata": {
            "tags": []
          },
          "execution_count": 11
        }
      ]
    },
    {
      "cell_type": "code",
      "metadata": {
        "id": "PKLzbtzOrCix",
        "colab_type": "code",
        "colab": {
          "base_uri": "https://localhost:8080/",
          "height": 67
        },
        "outputId": "4e9e533a-56f6-44f2-adc9-e92486d52605"
      },
      "source": [
        "'''\n",
        "# !!!IMPORTANT!!!\n",
        "# before update next grad. we need to calling .zero()\n",
        "# cause PyTorch accuumlates gradients\n",
        "'''\n",
        "w.grad.zero_()\n",
        "b.grad.zero_()\n",
        "print(w.grad)\n",
        "print(b.grad)"
      ],
      "execution_count": 12,
      "outputs": [
        {
          "output_type": "stream",
          "text": [
            "tensor([[0., 0., 0.],\n",
            "        [0., 0., 0.]])\n",
            "tensor([0., 0.])\n"
          ],
          "name": "stdout"
        }
      ]
    },
    {
      "cell_type": "markdown",
      "metadata": {
        "id": "s4hpVnCzrxde",
        "colab_type": "text"
      },
      "source": [
        "# Adjust weights and biases using GD"
      ]
    },
    {
      "cell_type": "code",
      "metadata": {
        "id": "uWCj8qgVrtqq",
        "colab_type": "code",
        "colab": {}
      },
      "source": [
        "# 1.Generate predictions\n",
        "# 2.Calculate the loss\n",
        "# 3.Compute gradients w.r.t the weights and biases\n",
        "# 4.Adjust the weights by subtracting a small quantity proportional to the gradient\n",
        "# 5.Reset the gradients to zero\n",
        "\n",
        "# 1\n",
        "preds = model(inputs_tensor)\n",
        "# 2\n",
        "loss = mse(preds,targets_tensor)\n",
        "# 3\n",
        "loss.backward()\n",
        "# 4 & 5\n",
        "with torch.no_grad():\n",
        "  w -= w.grad * 1e-4\n",
        "  b -= b.grad * 1e-4\n",
        "  w.grad.zero_()\n",
        "  b.grad.zero_()\n"
      ],
      "execution_count": 13,
      "outputs": []
    },
    {
      "cell_type": "markdown",
      "metadata": {
        "id": "zWlh7jc8tq75",
        "colab_type": "text"
      },
      "source": [
        "torch.no_grad(*args, **kwargs)\n",
        "Context-manager that disabled gradient calculation.\n",
        "\n",
        "Disabling gradient calculation is useful for inference, when you are sure that you will not call :meth:Tensor.backward(). It will reduce memory consumption for computations that would otherwise have requires_grad=True.\n",
        "\n",
        "In this mode, the result of every computation will have requires_grad=False, even when the inputs have requires_grad=True."
      ]
    },
    {
      "cell_type": "markdown",
      "metadata": {
        "id": "RejIvvnet718",
        "colab_type": "text"
      },
      "source": [
        "# Training"
      ]
    },
    {
      "cell_type": "code",
      "metadata": {
        "id": "8JtMPVkjuBWK",
        "colab_type": "code",
        "colab": {}
      },
      "source": [
        "epochs = 100\n",
        "lr = 1e-5"
      ],
      "execution_count": 14,
      "outputs": []
    },
    {
      "cell_type": "code",
      "metadata": {
        "id": "sPtWzy1VuT0b",
        "colab_type": "code",
        "colab": {}
      },
      "source": [
        "for e in range(epochs):\n",
        "  preds = model(inputs_tensor)\n",
        "  loss = mse(preds,targets_tensor)\n",
        "  loss.backward()\n",
        "  with torch.no_grad():\n",
        "    w -= w.grad * lr\n",
        "    b -= b.grad * lr\n",
        "    w.grad.zero_()\n",
        "    b.grad.zero_()\n",
        "  # print(e,loss)"
      ],
      "execution_count": 15,
      "outputs": []
    },
    {
      "cell_type": "code",
      "metadata": {
        "id": "Sr5_ClvNu22w",
        "colab_type": "code",
        "colab": {
          "base_uri": "https://localhost:8080/",
          "height": 168
        },
        "outputId": "3babf413-c325-4972-c3fa-2ed3c89b8c76"
      },
      "source": [
        "preds,targets_tensor"
      ],
      "execution_count": 17,
      "outputs": [
        {
          "output_type": "execute_result",
          "data": {
            "text/plain": [
              "(tensor([[ 68.4308,  70.2388],\n",
              "         [ 82.1154,  98.2811],\n",
              "         [100.7903, 138.5014],\n",
              "         [ 85.7149,  37.4770],\n",
              "         [ 64.0574, 114.4878]], grad_fn=<AddBackward0>), tensor([[ 56.,  70.],\n",
              "         [ 81., 101.],\n",
              "         [119., 133.],\n",
              "         [ 22.,  37.],\n",
              "         [103., 119.]]))"
            ]
          },
          "metadata": {
            "tags": []
          },
          "execution_count": 17
        }
      ]
    },
    {
      "cell_type": "markdown",
      "metadata": {
        "id": "-0EEb5krDqbD",
        "colab_type": "text"
      },
      "source": [
        "# LR uding PyTorch built-ins"
      ]
    },
    {
      "cell_type": "code",
      "metadata": {
        "id": "8rOnudeux0Ff",
        "colab_type": "code",
        "colab": {}
      },
      "source": [
        "import torch.nn as nn"
      ],
      "execution_count": 2,
      "outputs": []
    },
    {
      "cell_type": "code",
      "metadata": {
        "id": "JEDQqBPWD4Pb",
        "colab_type": "code",
        "colab": {}
      },
      "source": [
        "# Input (temp, rainfall, humidity)\n",
        "inputs = np.array([[73, 67, 43], [91, 88, 64], [87, 134, 58], \n",
        "                   [102, 43, 37], [69, 96, 70], [73, 67, 43], \n",
        "                   [91, 88, 64], [87, 134, 58], [102, 43, 37], \n",
        "                   [69, 96, 70], [73, 67, 43], [91, 88, 64], \n",
        "                   [87, 134, 58], [102, 43, 37], [69, 96, 70]], \n",
        "                  dtype='float32')\n",
        "\n",
        "# Targets (apples, oranges)\n",
        "targets = np.array([[56, 70], [81, 101], [119, 133], \n",
        "                    [22, 37], [103, 119], [56, 70], \n",
        "                    [81, 101], [119, 133], [22, 37], \n",
        "                    [103, 119], [56, 70], [81, 101], \n",
        "                    [119, 133], [22, 37], [103, 119]], \n",
        "                   dtype='float32')\n",
        "\n",
        "inputs = torch.from_numpy(inputs)\n",
        "targets = torch.from_numpy(targets)"
      ],
      "execution_count": 3,
      "outputs": []
    },
    {
      "cell_type": "code",
      "metadata": {
        "id": "o1597sHbEAD3",
        "colab_type": "code",
        "colab": {}
      },
      "source": [
        "# Dataset and DataLoader\n",
        "from torch.utils.data import TensorDataset"
      ],
      "execution_count": 4,
      "outputs": []
    },
    {
      "cell_type": "code",
      "metadata": {
        "id": "5KJN9f0CEWra",
        "colab_type": "code",
        "colab": {
          "base_uri": "https://localhost:8080/",
          "height": 101
        },
        "outputId": "b2085a49-72f7-4b3c-c437-1220b119875b"
      },
      "source": [
        "# Define data set\n",
        "'''\n",
        "# TensorDataset combines data \n",
        "'''\n",
        "train_ds = TensorDataset(inputs,targets)\n",
        "train_ds[0:3]"
      ],
      "execution_count": 6,
      "outputs": [
        {
          "output_type": "execute_result",
          "data": {
            "text/plain": [
              "(tensor([[ 73.,  67.,  43.],\n",
              "         [ 91.,  88.,  64.],\n",
              "         [ 87., 134.,  58.]]), tensor([[ 56.,  70.],\n",
              "         [ 81., 101.],\n",
              "         [119., 133.]]))"
            ]
          },
          "metadata": {
            "tags": []
          },
          "execution_count": 6
        }
      ]
    },
    {
      "cell_type": "code",
      "metadata": {
        "id": "KmiU5yVeEnlU",
        "colab_type": "code",
        "colab": {}
      },
      "source": [
        "from torch.utils.data import DataLoader"
      ],
      "execution_count": 7,
      "outputs": []
    },
    {
      "cell_type": "code",
      "metadata": {
        "id": "HITDMTCuFJqK",
        "colab_type": "code",
        "colab": {}
      },
      "source": [
        "# define data Loader\n",
        "batch_size = 5\n",
        "'''\n",
        "# DataLoader Data loader. Combines a dataset and a sampler, \n",
        "# and provides an iterable over the given dataset\n",
        "'''\n",
        "train_dl = DataLoader(train_ds,batch_size, shuffle=True)"
      ],
      "execution_count": 8,
      "outputs": []
    },
    {
      "cell_type": "code",
      "metadata": {
        "id": "MjTJfOxxUfNg",
        "colab_type": "code",
        "colab": {
          "base_uri": "https://localhost:8080/",
          "height": 185
        },
        "outputId": "b4cece6e-e246-433d-8b14-c599f79fe53a"
      },
      "source": [
        "# iteration example\n",
        "for xb, yb in train_dl:\n",
        "    print(xb)\n",
        "    print(yb)\n",
        "    break"
      ],
      "execution_count": 10,
      "outputs": [
        {
          "output_type": "stream",
          "text": [
            "tensor([[73., 67., 43.],\n",
            "        [91., 88., 64.],\n",
            "        [91., 88., 64.],\n",
            "        [73., 67., 43.],\n",
            "        [69., 96., 70.]])\n",
            "tensor([[ 56.,  70.],\n",
            "        [ 81., 101.],\n",
            "        [ 81., 101.],\n",
            "        [ 56.,  70.],\n",
            "        [103., 119.]])\n"
          ],
          "name": "stdout"
        }
      ]
    },
    {
      "cell_type": "markdown",
      "metadata": {
        "id": "XgJ_2WMRYpck",
        "colab_type": "text"
      },
      "source": [
        "# nn.Linear in-built LR"
      ]
    },
    {
      "cell_type": "code",
      "metadata": {
        "id": "-rOWPwjAUmn1",
        "colab_type": "code",
        "colab": {
          "base_uri": "https://localhost:8080/",
          "height": 101
        },
        "outputId": "1d00162a-19cf-4894-cb14-9bb07a1b6e24"
      },
      "source": [
        "# Define model\n",
        "'''\n",
        "nn.Linear init w & b automatically\n",
        "'''\n",
        "model = nn.Linear(3,2)\n",
        "model.weight, model.bias"
      ],
      "execution_count": 12,
      "outputs": [
        {
          "output_type": "execute_result",
          "data": {
            "text/plain": [
              "(Parameter containing:\n",
              " tensor([[-0.1768,  0.4161, -0.5550],\n",
              "         [ 0.0311,  0.3134, -0.1490]], requires_grad=True),\n",
              " Parameter containing:\n",
              " tensor([-0.4631,  0.1579], requires_grad=True))"
            ]
          },
          "metadata": {
            "tags": []
          },
          "execution_count": 12
        }
      ]
    },
    {
      "cell_type": "code",
      "metadata": {
        "id": "ezGi0o6GVDCr",
        "colab_type": "code",
        "colab": {
          "base_uri": "https://localhost:8080/",
          "height": 101
        },
        "outputId": "56ab44e6-ee09-4892-a545-2240dcf6f086"
      },
      "source": [
        "# Parameters\n",
        "'''\n",
        " .parameters is helpful method to return list all weight and bias in model\n",
        "'''\n",
        "list(model.parameters())"
      ],
      "execution_count": 14,
      "outputs": [
        {
          "output_type": "execute_result",
          "data": {
            "text/plain": [
              "[Parameter containing:\n",
              " tensor([[-0.1768,  0.4161, -0.5550],\n",
              "         [ 0.0311,  0.3134, -0.1490]], requires_grad=True),\n",
              " Parameter containing:\n",
              " tensor([-0.4631,  0.1579], requires_grad=True)]"
            ]
          },
          "metadata": {
            "tags": []
          },
          "execution_count": 14
        }
      ]
    },
    {
      "cell_type": "code",
      "metadata": {
        "id": "1u5VeNP0Xepz",
        "colab_type": "code",
        "colab": {
          "base_uri": "https://localhost:8080/",
          "height": 269
        },
        "outputId": "9e79e4c7-70f0-4635-9dff-1c0e9fe42b6e"
      },
      "source": [
        "# Generate predictions\n",
        "preds = model(inputs)\n",
        "preds"
      ],
      "execution_count": 16,
      "outputs": [
        {
          "output_type": "execute_result",
          "data": {
            "text/plain": [
              "tensor([[ -9.3546,  17.0163],\n",
              "        [-15.4534,  21.0279],\n",
              "        [  7.7226,  36.2150],\n",
              "        [-21.1367,  11.2888],\n",
              "        [-11.5658,  21.9581],\n",
              "        [ -9.3546,  17.0163],\n",
              "        [-15.4534,  21.0279],\n",
              "        [  7.7226,  36.2150],\n",
              "        [-21.1367,  11.2888],\n",
              "        [-11.5658,  21.9581],\n",
              "        [ -9.3546,  17.0163],\n",
              "        [-15.4534,  21.0279],\n",
              "        [  7.7226,  36.2150],\n",
              "        [-21.1367,  11.2888],\n",
              "        [-11.5658,  21.9581]], grad_fn=<AddmmBackward>)"
            ]
          },
          "metadata": {
            "tags": []
          },
          "execution_count": 16
        }
      ]
    },
    {
      "cell_type": "markdown",
      "metadata": {
        "id": "w0ZaqAzUYeZZ",
        "colab_type": "text"
      },
      "source": [
        "# Loss function"
      ]
    },
    {
      "cell_type": "code",
      "metadata": {
        "id": "IfjwWtnEXmoI",
        "colab_type": "code",
        "colab": {}
      },
      "source": [
        "# Import nn.functional that contains many useful loss functions\n",
        "import torch.nn.functional as F"
      ],
      "execution_count": 17,
      "outputs": []
    },
    {
      "cell_type": "code",
      "metadata": {
        "id": "WZ5r6hwzXza-",
        "colab_type": "code",
        "colab": {}
      },
      "source": [
        "# Define loss function\n",
        "# Direct import instead of implement by hand\n",
        "loss_fn = F.mse_loss"
      ],
      "execution_count": 18,
      "outputs": []
    },
    {
      "cell_type": "code",
      "metadata": {
        "id": "9uDXn73fYCP6",
        "colab_type": "code",
        "colab": {
          "base_uri": "https://localhost:8080/",
          "height": 34
        },
        "outputId": "8eca7afe-4835-4110-bce3-722449c2f95b"
      },
      "source": [
        "loss = loss_fn(model(inputs),targets)\n",
        "print(loss)"
      ],
      "execution_count": 21,
      "outputs": [
        {
          "output_type": "stream",
          "text": [
            "tensor(6959.1597, grad_fn=<MseLossBackward>)\n"
          ],
          "name": "stdout"
        }
      ]
    },
    {
      "cell_type": "markdown",
      "metadata": {
        "id": "V1lYdpczYvCG",
        "colab_type": "text"
      },
      "source": [
        "# Optimizer"
      ]
    },
    {
      "cell_type": "code",
      "metadata": {
        "id": "1p7FsCPxYLQa",
        "colab_type": "code",
        "colab": {}
      },
      "source": [
        "# Deine optimizer\n",
        "opt = torch.optim.SGD(model.parameters(),lr = 1e-4)"
      ],
      "execution_count": 23,
      "outputs": []
    },
    {
      "cell_type": "markdown",
      "metadata": {
        "id": "REaCIMDHZKfy",
        "colab_type": "text"
      },
      "source": [
        "# Train the model"
      ]
    },
    {
      "cell_type": "code",
      "metadata": {
        "id": "IYKNI-c_ZH4S",
        "colab_type": "code",
        "colab": {}
      },
      "source": [
        "def fit(epochs, model, loss_fn, opt, train_dl):\n",
        "    for epoch in range(epochs):\n",
        "        for x, y in train_dl:\n",
        "            pred = model(x)\n",
        "            loss = loss_fn(pred,y)\n",
        "            loss.backward()\n",
        "            opt.step()\n",
        "            opt.zero_grad()\n",
        "        if (epoch+1) % 10 == 0:\n",
        "            print('Epoch [{}/{}], Loss: {:.4f}'.format(epoch+1, epochs, loss.item()))    "
      ],
      "execution_count": 29,
      "outputs": []
    },
    {
      "cell_type": "code",
      "metadata": {
        "id": "20ddFTWLbxlj",
        "colab_type": "code",
        "colab": {
          "base_uri": "https://localhost:8080/",
          "height": 185
        },
        "outputId": "d41ccd57-94ca-4ec9-e88e-55bdd8f6e19f"
      },
      "source": [
        "fit(100, model, loss_fn, opt, train_dl)"
      ],
      "execution_count": 30,
      "outputs": [
        {
          "output_type": "stream",
          "text": [
            "Epoch [10/100], Loss: 13.1481\n",
            "Epoch [20/100], Loss: 36.2457\n",
            "Epoch [30/100], Loss: 10.4093\n",
            "Epoch [40/100], Loss: 52.1378\n",
            "Epoch [50/100], Loss: 3.8174\n",
            "Epoch [60/100], Loss: 1.5439\n",
            "Epoch [70/100], Loss: 5.0449\n",
            "Epoch [80/100], Loss: 4.4012\n",
            "Epoch [90/100], Loss: 0.9627\n",
            "Epoch [100/100], Loss: 1.6388\n"
          ],
          "name": "stdout"
        }
      ]
    },
    {
      "cell_type": "code",
      "metadata": {
        "id": "NA5ic-qWcdJy",
        "colab_type": "code",
        "colab": {
          "base_uri": "https://localhost:8080/",
          "height": 504
        },
        "outputId": "6010f917-fef0-4286-d71d-8d6eec2c3abb"
      },
      "source": [
        "preds = model(inputs)\n",
        "preds,targets"
      ],
      "execution_count": 32,
      "outputs": [
        {
          "output_type": "execute_result",
          "data": {
            "text/plain": [
              "(tensor([[ 56.0663,  70.4670],\n",
              "         [ 80.5399, 100.5478],\n",
              "         [117.3745, 133.6111],\n",
              "         [ 20.5035,  37.2555],\n",
              "         [ 99.7652, 118.7711],\n",
              "         [ 56.0663,  70.4670],\n",
              "         [ 80.5399, 100.5478],\n",
              "         [117.3745, 133.6111],\n",
              "         [ 20.5035,  37.2555],\n",
              "         [ 99.7652, 118.7711],\n",
              "         [ 56.0663,  70.4670],\n",
              "         [ 80.5399, 100.5478],\n",
              "         [117.3745, 133.6111],\n",
              "         [ 20.5035,  37.2555],\n",
              "         [ 99.7652, 118.7711]], grad_fn=<AddmmBackward>), tensor([[ 56.,  70.],\n",
              "         [ 81., 101.],\n",
              "         [119., 133.],\n",
              "         [ 22.,  37.],\n",
              "         [103., 119.],\n",
              "         [ 56.,  70.],\n",
              "         [ 81., 101.],\n",
              "         [119., 133.],\n",
              "         [ 22.,  37.],\n",
              "         [103., 119.],\n",
              "         [ 56.,  70.],\n",
              "         [ 81., 101.],\n",
              "         [119., 133.],\n",
              "         [ 22.,  37.],\n",
              "         [103., 119.]]))"
            ]
          },
          "metadata": {
            "tags": []
          },
          "execution_count": 32
        }
      ]
    }
  ]
}