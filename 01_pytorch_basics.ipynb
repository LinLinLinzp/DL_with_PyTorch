{
  "nbformat": 4,
  "nbformat_minor": 0,
  "metadata": {
    "colab": {
      "name": "01-pytorch-basics.ipynb",
      "provenance": [],
      "collapsed_sections": [],
      "authorship_tag": "ABX9TyNwXzTYc/FFHX+E1JOju++u"
    },
    "kernelspec": {
      "name": "python3",
      "display_name": "Python 3"
    }
  },
  "cells": [
    {
      "cell_type": "code",
      "metadata": {
        "id": "pahIFKESNUvP",
        "colab_type": "code",
        "colab": {}
      },
      "source": [
        "import torch"
      ],
      "execution_count": 1,
      "outputs": []
    },
    {
      "cell_type": "markdown",
      "metadata": {
        "id": "lKmyZv-NOjI-",
        "colab_type": "text"
      },
      "source": [
        "# Tensors"
      ]
    },
    {
      "cell_type": "code",
      "metadata": {
        "id": "RyILKbgcPaJk",
        "colab_type": "code",
        "colab": {
          "base_uri": "https://localhost:8080/",
          "height": 34
        },
        "outputId": "b46c97b7-289b-45ef-d825-91b71c830fc8"
      },
      "source": [
        "# At its core, PyTorch is a library for processing tensors.\n",
        "# A tensor is a number, vector, matrix or any n-dimensional array.\n",
        "# single number\n",
        "t1 = torch.tensor(1.)\n",
        "t1,t1.dtype"
      ],
      "execution_count": 5,
      "outputs": [
        {
          "output_type": "execute_result",
          "data": {
            "text/plain": [
              "(tensor(1.), torch.float32)"
            ]
          },
          "metadata": {
            "tags": []
          },
          "execution_count": 5
        }
      ]
    },
    {
      "cell_type": "code",
      "metadata": {
        "id": "yThtoNfdO3oy",
        "colab_type": "code",
        "colab": {
          "base_uri": "https://localhost:8080/",
          "height": 34
        },
        "outputId": "cde88684-cea0-4f60-d8f4-24f7513bcfb1"
      },
      "source": [
        "# Vector\n",
        "t2 = torch.tensor([1.,2,3,4])\n",
        "t2,t2.dtype"
      ],
      "execution_count": 7,
      "outputs": [
        {
          "output_type": "execute_result",
          "data": {
            "text/plain": [
              "(tensor([1., 2., 3., 4.]), torch.float32)"
            ]
          },
          "metadata": {
            "tags": []
          },
          "execution_count": 7
        }
      ]
    },
    {
      "cell_type": "code",
      "metadata": {
        "id": "dp84rgtTOh48",
        "colab_type": "code",
        "colab": {
          "base_uri": "https://localhost:8080/",
          "height": 67
        },
        "outputId": "50be562a-21b0-42c6-9f63-ce0b5a3f9653"
      },
      "source": [
        "# Matrix\n",
        "t3= torch.tensor([[1.,2],[3,4],[5,6]])\n",
        "t3,t3.dtype"
      ],
      "execution_count": 9,
      "outputs": [
        {
          "output_type": "execute_result",
          "data": {
            "text/plain": [
              "(tensor([[1., 2.],\n",
              "         [3., 4.],\n",
              "         [5., 6.]]), torch.float32)"
            ]
          },
          "metadata": {
            "tags": []
          },
          "execution_count": 9
        }
      ]
    },
    {
      "cell_type": "code",
      "metadata": {
        "id": "TeSVbyUVQN54",
        "colab_type": "code",
        "colab": {
          "base_uri": "https://localhost:8080/",
          "height": 151
        },
        "outputId": "beb995e7-1a62-4bb1-e93b-c77457fdeb16"
      },
      "source": [
        "# 3-dim array \n",
        "# it can extend to n-dim\n",
        "t4 = torch.tensor([[[1.,2],[3,4]],\n",
        "                   [[1,2],[3,4]],\n",
        "                   [[1,2],[3,4]]\n",
        "                   ])\n",
        "t4"
      ],
      "execution_count": 16,
      "outputs": [
        {
          "output_type": "execute_result",
          "data": {
            "text/plain": [
              "tensor([[[1., 2.],\n",
              "         [3., 4.]],\n",
              "\n",
              "        [[1., 2.],\n",
              "         [3., 4.]],\n",
              "\n",
              "        [[1., 2.],\n",
              "         [3., 4.]]])"
            ]
          },
          "metadata": {
            "tags": []
          },
          "execution_count": 16
        }
      ]
    },
    {
      "cell_type": "code",
      "metadata": {
        "id": "2qjhljIWQuq_",
        "colab_type": "code",
        "colab": {
          "base_uri": "https://localhost:8080/",
          "height": 34
        },
        "outputId": "e1379388-47ab-4595-cd35-0086e6140b1b"
      },
      "source": [
        "# using .shape to check tensor's shape\n",
        "t1.shape,t2.shape,t3.shape,t4.shape"
      ],
      "execution_count": 25,
      "outputs": [
        {
          "output_type": "execute_result",
          "data": {
            "text/plain": [
              "(torch.Size([]), torch.Size([4]), torch.Size([3, 2]), torch.Size([3, 2, 2]))"
            ]
          },
          "metadata": {
            "tags": []
          },
          "execution_count": 25
        }
      ]
    },
    {
      "cell_type": "markdown",
      "metadata": {
        "id": "RUr7WLy9R2fr",
        "colab_type": "text"
      },
      "source": [
        "# Tensor operations and gradients"
      ]
    },
    {
      "cell_type": "code",
      "metadata": {
        "id": "heRoGqWURyBR",
        "colab_type": "code",
        "colab": {}
      },
      "source": [
        "# create tensors\n",
        "x = torch.tensor(1.)\n",
        "# we need to set the parameter requires_grad = True if we'll get grad\n",
        "w, b = torch.tensor(2.,requires_grad=True), torch.tensor(3.,requires_grad=True)"
      ],
      "execution_count": 33,
      "outputs": []
    },
    {
      "cell_type": "code",
      "metadata": {
        "id": "d-HfVRP3STUP",
        "colab_type": "code",
        "colab": {
          "base_uri": "https://localhost:8080/",
          "height": 34
        },
        "outputId": "5bc1a041-7d55-4fa7-8e04-d1a9df41b011"
      },
      "source": [
        "# arithmetic operations\n",
        "y = w * x + b\n",
        "y, y.dtype"
      ],
      "execution_count": 35,
      "outputs": [
        {
          "output_type": "execute_result",
          "data": {
            "text/plain": [
              "(tensor(5., grad_fn=<AddBackward0>), torch.float32)"
            ]
          },
          "metadata": {
            "tags": []
          },
          "execution_count": 35
        }
      ]
    },
    {
      "cell_type": "code",
      "metadata": {
        "id": "FHn_Jr5vSjou",
        "colab_type": "code",
        "colab": {}
      },
      "source": [
        "# To compute the derivatives, we can call the .backward method on our result y.\n",
        "# call backward()\n",
        "y.backward()"
      ],
      "execution_count": 36,
      "outputs": []
    },
    {
      "cell_type": "code",
      "metadata": {
        "id": "aAUT7RymTknh",
        "colab_type": "code",
        "colab": {
          "base_uri": "https://localhost:8080/",
          "height": 34
        },
        "outputId": "d60c83b6-9441-42ad-c8f0-780c247f3726"
      },
      "source": [
        "# show gradidents\n",
        "x.grad,w.grad,b.grad\n",
        "# showing grad before .backward() will return None"
      ],
      "execution_count": 38,
      "outputs": [
        {
          "output_type": "execute_result",
          "data": {
            "text/plain": [
              "(None, tensor(1.), tensor(1.))"
            ]
          },
          "metadata": {
            "tags": []
          },
          "execution_count": 38
        }
      ]
    },
    {
      "cell_type": "markdown",
      "metadata": {
        "id": "uT-TldQzUh3m",
        "colab_type": "text"
      },
      "source": [
        "# Interoperability with Numpy"
      ]
    },
    {
      "cell_type": "code",
      "metadata": {
        "id": "IPmr3pTyTx2B",
        "colab_type": "code",
        "colab": {}
      },
      "source": [
        "import numpy as np"
      ],
      "execution_count": 39,
      "outputs": []
    },
    {
      "cell_type": "code",
      "metadata": {
        "id": "MLOQKEmuUxDP",
        "colab_type": "code",
        "colab": {
          "base_uri": "https://localhost:8080/",
          "height": 50
        },
        "outputId": "8caabc8f-b54e-4f0f-e982-e5392746071b"
      },
      "source": [
        "x = np.array([[1,2],[3,4.]])\n",
        "x, x.shape, x.dtype"
      ],
      "execution_count": 40,
      "outputs": [
        {
          "output_type": "execute_result",
          "data": {
            "text/plain": [
              "(array([[1., 2.],\n",
              "        [3., 4.]]), (2, 2), dtype('float64'))"
            ]
          },
          "metadata": {
            "tags": []
          },
          "execution_count": 40
        }
      ]
    },
    {
      "cell_type": "code",
      "metadata": {
        "id": "Agz7HwABU7D0",
        "colab_type": "code",
        "colab": {
          "base_uri": "https://localhost:8080/",
          "height": 50
        },
        "outputId": "fc75cf7d-dc76-4a4a-be9b-8745c64a2040"
      },
      "source": [
        "# Convert Numpy array to torch tensor\n",
        "x_tensor = torch.from_numpy(x)\n",
        "x_tensor"
      ],
      "execution_count": 41,
      "outputs": [
        {
          "output_type": "execute_result",
          "data": {
            "text/plain": [
              "tensor([[1., 2.],\n",
              "        [3., 4.]], dtype=torch.float64)"
            ]
          },
          "metadata": {
            "tags": []
          },
          "execution_count": 41
        }
      ]
    },
    {
      "cell_type": "code",
      "metadata": {
        "id": "6j1Kz1shVJmT",
        "colab_type": "code",
        "colab": {
          "base_uri": "https://localhost:8080/",
          "height": 50
        },
        "outputId": "3e8c3d31-b1ac-4d0e-b889-fd639206af66"
      },
      "source": [
        "# Convert torch tensor to numpy array\n",
        "x_numpy = x_tensor.numpy()\n",
        "x_numpy"
      ],
      "execution_count": 42,
      "outputs": [
        {
          "output_type": "execute_result",
          "data": {
            "text/plain": [
              "array([[1., 2.],\n",
              "       [3., 4.]])"
            ]
          },
          "metadata": {
            "tags": []
          },
          "execution_count": 42
        }
      ]
    }
  ]
}